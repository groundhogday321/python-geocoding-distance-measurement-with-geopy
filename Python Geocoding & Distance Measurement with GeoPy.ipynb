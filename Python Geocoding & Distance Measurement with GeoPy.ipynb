{
 "cells": [
  {
   "cell_type": "markdown",
   "metadata": {},
   "source": [
    "# GEOCODING & DISTANCE MEASUREMENT WITH GEOPY"
   ]
  },
  {
   "cell_type": "markdown",
   "metadata": {},
   "source": [
    "# NOTES\n",
    "\n",
    "### Not all names and addresses will be recognized."
   ]
  },
  {
   "cell_type": "markdown",
   "metadata": {},
   "source": [
    "# DOCUMENTATION"
   ]
  },
  {
   "cell_type": "code",
   "execution_count": 45,
   "metadata": {},
   "outputs": [
    {
     "data": {
      "text/html": [
       "\n",
       "        <iframe\n",
       "            width=\"1000\"\n",
       "            height=\"500\"\n",
       "            src=\"https://geopy.readthedocs.io/en/latest/\"\n",
       "            frameborder=\"0\"\n",
       "            allowfullscreen\n",
       "        ></iframe>\n",
       "        "
      ],
      "text/plain": [
       "<IPython.lib.display.IFrame at 0x7ffae9699d10>"
      ]
     },
     "metadata": {},
     "output_type": "display_data"
    }
   ],
   "source": [
    "from IPython.display import IFrame\n",
    "documentation = IFrame(src='https://geopy.readthedocs.io/en/latest/', width=1000, height=500)\n",
    "display(documentation)"
   ]
  },
  {
   "cell_type": "markdown",
   "metadata": {},
   "source": [
    "# IMPORTS"
   ]
  },
  {
   "cell_type": "code",
   "execution_count": 1,
   "metadata": {},
   "outputs": [],
   "source": [
    "import geopy\n",
    "from geopy.geocoders import Nominatim\n",
    "from geopy.extra.rate_limiter import RateLimiter\n",
    "from geopy import distance\n",
    "\n",
    "import pandas as pd\n",
    "from ipyleaflet import Map, AntPath, MeasureControl\n",
    "import ipywidgets\n",
    "from vega_datasets import data as vds"
   ]
  },
  {
   "cell_type": "markdown",
   "metadata": {},
   "source": [
    "# GEOLOCATION DATA FROM ADDRESS\n",
    "### Important: Change user_agent To Your Custom user_agent Name"
   ]
  },
  {
   "cell_type": "code",
   "execution_count": 47,
   "metadata": {},
   "outputs": [
    {
     "data": {
      "text/plain": [
       "Location(4790, West 16th Street, Speedway, Marion, Indiana, 46222, United States of America, (39.790318600000006, -86.23369319174797, 0.0))"
      ]
     },
     "execution_count": 47,
     "metadata": {},
     "output_type": "execute_result"
    }
   ],
   "source": [
    "# address or name\n",
    "indy_500_address = '4790 W 16th St, Indianapolis, IN 46222'\n",
    "\n",
    "# Nominatim geocoder for OpenStreetMap data\n",
    "# *** change user_agent to your custom user_agent name ***\n",
    "# geocode returns a location point by address\n",
    "indy_500 = Nominatim(user_agent='tutorial').geocode(indy_500_address)\n",
    "indy_500"
   ]
  },
  {
   "cell_type": "markdown",
   "metadata": {},
   "source": [
    "### FULL ADDRESS"
   ]
  },
  {
   "cell_type": "code",
   "execution_count": 48,
   "metadata": {},
   "outputs": [
    {
     "data": {
      "text/plain": [
       "'4790, West 16th Street, Speedway, Marion, Indiana, 46222, United States of America'"
      ]
     },
     "execution_count": 48,
     "metadata": {},
     "output_type": "execute_result"
    }
   ],
   "source": [
    "indy_500.address"
   ]
  },
  {
   "cell_type": "markdown",
   "metadata": {},
   "source": [
    "### LATITUDE AND LONGITUDE"
   ]
  },
  {
   "cell_type": "code",
   "execution_count": 49,
   "metadata": {},
   "outputs": [
    {
     "data": {
      "text/plain": [
       "(39.790318600000006, -86.23369319174797)"
      ]
     },
     "execution_count": 49,
     "metadata": {},
     "output_type": "execute_result"
    }
   ],
   "source": [
    "(indy_500.latitude, indy_500.longitude)"
   ]
  },
  {
   "cell_type": "markdown",
   "metadata": {},
   "source": [
    "### ALL GEOLOCATION DATA"
   ]
  },
  {
   "cell_type": "code",
   "execution_count": 50,
   "metadata": {
    "scrolled": true
   },
   "outputs": [
    {
     "data": {
      "text/plain": [
       "{'place_id': 100103405,\n",
       " 'licence': 'Data © OpenStreetMap contributors, ODbL 1.0. https://osm.org/copyright',\n",
       " 'osm_type': 'way',\n",
       " 'osm_id': 51315962,\n",
       " 'boundingbox': ['39.7899432', '39.7906845', '-86.2341062', '-86.2332791'],\n",
       " 'lat': '39.790318600000006',\n",
       " 'lon': '-86.23369319174797',\n",
       " 'display_name': '4790, West 16th Street, Speedway, Marion, Indiana, 46222, United States of America',\n",
       " 'class': 'tourism',\n",
       " 'type': 'museum',\n",
       " 'importance': 0.9590557430834509,\n",
       " 'icon': 'https://nominatim.openstreetmap.org/images/mapicons/tourist_museum.p.20.png'}"
      ]
     },
     "execution_count": 50,
     "metadata": {},
     "output_type": "execute_result"
    }
   ],
   "source": [
    "indy_500.raw"
   ]
  },
  {
   "cell_type": "markdown",
   "metadata": {},
   "source": [
    "# GEOLOCATION DATA FROM LIST OF ADDRESSES\n",
    "five tallest buildings csv data source (as of July 2020): Wikipedia\n",
    "\n",
    "some building names may need to be changed to return an address"
   ]
  },
  {
   "cell_type": "code",
   "execution_count": 51,
   "metadata": {},
   "outputs": [
    {
     "data": {
      "text/html": [
       "<div>\n",
       "<style scoped>\n",
       "    .dataframe tbody tr th:only-of-type {\n",
       "        vertical-align: middle;\n",
       "    }\n",
       "\n",
       "    .dataframe tbody tr th {\n",
       "        vertical-align: top;\n",
       "    }\n",
       "\n",
       "    .dataframe thead th {\n",
       "        text-align: right;\n",
       "    }\n",
       "</style>\n",
       "<table border=\"1\" class=\"dataframe\">\n",
       "  <thead>\n",
       "    <tr style=\"text-align: right;\">\n",
       "      <th></th>\n",
       "      <th>Building</th>\n",
       "      <th>City</th>\n",
       "      <th>Country</th>\n",
       "      <th>Height</th>\n",
       "      <th>Floors</th>\n",
       "      <th>Year</th>\n",
       "    </tr>\n",
       "  </thead>\n",
       "  <tbody>\n",
       "    <tr>\n",
       "      <th>0</th>\n",
       "      <td>Burj Khalifa</td>\n",
       "      <td>Dubai</td>\n",
       "      <td>United Arab Emirates</td>\n",
       "      <td>2717</td>\n",
       "      <td>163</td>\n",
       "      <td>2010</td>\n",
       "    </tr>\n",
       "    <tr>\n",
       "      <th>1</th>\n",
       "      <td>Shanghai Tower</td>\n",
       "      <td>Shanghai</td>\n",
       "      <td>China</td>\n",
       "      <td>2073</td>\n",
       "      <td>128</td>\n",
       "      <td>2015</td>\n",
       "    </tr>\n",
       "    <tr>\n",
       "      <th>2</th>\n",
       "      <td>Makkah Royal Clock Tower</td>\n",
       "      <td>Mecca</td>\n",
       "      <td>Saudi Arabia</td>\n",
       "      <td>1971</td>\n",
       "      <td>120</td>\n",
       "      <td>2012</td>\n",
       "    </tr>\n",
       "    <tr>\n",
       "      <th>3</th>\n",
       "      <td>Ping An Finance Center</td>\n",
       "      <td>Shenzhen</td>\n",
       "      <td>China</td>\n",
       "      <td>1965</td>\n",
       "      <td>115</td>\n",
       "      <td>2017</td>\n",
       "    </tr>\n",
       "    <tr>\n",
       "      <th>4</th>\n",
       "      <td>Lotte World Tower</td>\n",
       "      <td>Seoul</td>\n",
       "      <td>South Korea</td>\n",
       "      <td>1819</td>\n",
       "      <td>123</td>\n",
       "      <td>2016</td>\n",
       "    </tr>\n",
       "  </tbody>\n",
       "</table>\n",
       "</div>"
      ],
      "text/plain": [
       "                   Building      City               Country  Height  Floors  \\\n",
       "0              Burj Khalifa     Dubai  United Arab Emirates    2717     163   \n",
       "1            Shanghai Tower  Shanghai                 China    2073     128   \n",
       "2  Makkah Royal Clock Tower     Mecca          Saudi Arabia    1971     120   \n",
       "3    Ping An Finance Center  Shenzhen                 China    1965     115   \n",
       "4         Lotte World Tower     Seoul           South Korea    1819     123   \n",
       "\n",
       "   Year  \n",
       "0  2010  \n",
       "1  2015  \n",
       "2  2012  \n",
       "3  2017  \n",
       "4  2016  "
      ]
     },
     "execution_count": 51,
     "metadata": {},
     "output_type": "execute_result"
    }
   ],
   "source": [
    "data = 'https://raw.githubusercontent.com/groundhogday321/dataframe-datasets/master/five_tallest_buildings.csv'\n",
    "tallest_buildings = pd.read_csv(data)\n",
    "tallest_buildings"
   ]
  },
  {
   "cell_type": "markdown",
   "metadata": {},
   "source": [
    "### RateLimiter and AsyncRateLimiter help perform bulk operations while gracefully handling error responses and adding delays when needed.\n",
    "\n",
    "Nominatim usage policy requirement is maximum of 1 request per second\n",
    "\n",
    "https://operations.osmfoundation.org/policies/nominatim/"
   ]
  },
  {
   "cell_type": "code",
   "execution_count": 52,
   "metadata": {},
   "outputs": [
    {
     "data": {
      "text/html": [
       "<div>\n",
       "<style scoped>\n",
       "    .dataframe tbody tr th:only-of-type {\n",
       "        vertical-align: middle;\n",
       "    }\n",
       "\n",
       "    .dataframe tbody tr th {\n",
       "        vertical-align: top;\n",
       "    }\n",
       "\n",
       "    .dataframe thead th {\n",
       "        text-align: right;\n",
       "    }\n",
       "</style>\n",
       "<table border=\"1\" class=\"dataframe\">\n",
       "  <thead>\n",
       "    <tr style=\"text-align: right;\">\n",
       "      <th></th>\n",
       "      <th>Building</th>\n",
       "      <th>City</th>\n",
       "      <th>Country</th>\n",
       "      <th>Height</th>\n",
       "      <th>Floors</th>\n",
       "      <th>Year</th>\n",
       "      <th>Location</th>\n",
       "      <th>Latitude</th>\n",
       "      <th>Longitude</th>\n",
       "    </tr>\n",
       "  </thead>\n",
       "  <tbody>\n",
       "    <tr>\n",
       "      <th>0</th>\n",
       "      <td>Burj Khalifa</td>\n",
       "      <td>Dubai</td>\n",
       "      <td>United Arab Emirates</td>\n",
       "      <td>2717</td>\n",
       "      <td>163</td>\n",
       "      <td>2010</td>\n",
       "      <td>(برج خليفة, شارع الشيخ محمد بن راشد, Al Manzil...</td>\n",
       "      <td>25.197031</td>\n",
       "      <td>55.274221</td>\n",
       "    </tr>\n",
       "    <tr>\n",
       "      <th>1</th>\n",
       "      <td>Shanghai Tower</td>\n",
       "      <td>Shanghai</td>\n",
       "      <td>China</td>\n",
       "      <td>2073</td>\n",
       "      <td>128</td>\n",
       "      <td>2015</td>\n",
       "      <td>(501, 银城中路, 洋泾街道, 浦东新区, 上海市, 200010, China 中国,...</td>\n",
       "      <td>31.235646</td>\n",
       "      <td>121.501266</td>\n",
       "    </tr>\n",
       "    <tr>\n",
       "      <th>2</th>\n",
       "      <td>Makkah Royal Clock Tower</td>\n",
       "      <td>Mecca</td>\n",
       "      <td>Saudi Arabia</td>\n",
       "      <td>1971</td>\n",
       "      <td>120</td>\n",
       "      <td>2012</td>\n",
       "      <td>(Fairmont Makkah Clock Royal Tower, Bab Al Mal...</td>\n",
       "      <td>21.418184</td>\n",
       "      <td>39.825565</td>\n",
       "    </tr>\n",
       "    <tr>\n",
       "      <th>3</th>\n",
       "      <td>Ping An Finance Center</td>\n",
       "      <td>Shenzhen</td>\n",
       "      <td>China</td>\n",
       "      <td>1965</td>\n",
       "      <td>115</td>\n",
       "      <td>2017</td>\n",
       "      <td>(5033, 益田路, 皇岗, 车公庙, 福田区, 广东省, 518048, China 中...</td>\n",
       "      <td>22.536724</td>\n",
       "      <td>114.050355</td>\n",
       "    </tr>\n",
       "    <tr>\n",
       "      <th>4</th>\n",
       "      <td>Lotte World Tower</td>\n",
       "      <td>Seoul</td>\n",
       "      <td>South Korea</td>\n",
       "      <td>1819</td>\n",
       "      <td>123</td>\n",
       "      <td>2016</td>\n",
       "      <td>(롯데월드타워, 올림픽로, 송파구, 방이2동, 05551, 대한민국, (37.512...</td>\n",
       "      <td>37.512684</td>\n",
       "      <td>127.102629</td>\n",
       "    </tr>\n",
       "  </tbody>\n",
       "</table>\n",
       "</div>"
      ],
      "text/plain": [
       "                   Building      City               Country  Height  Floors  \\\n",
       "0              Burj Khalifa     Dubai  United Arab Emirates    2717     163   \n",
       "1            Shanghai Tower  Shanghai                 China    2073     128   \n",
       "2  Makkah Royal Clock Tower     Mecca          Saudi Arabia    1971     120   \n",
       "3    Ping An Finance Center  Shenzhen                 China    1965     115   \n",
       "4         Lotte World Tower     Seoul           South Korea    1819     123   \n",
       "\n",
       "   Year                                           Location   Latitude  \\\n",
       "0  2010  (برج خليفة, شارع الشيخ محمد بن راشد, Al Manzil...  25.197031   \n",
       "1  2015  (501, 银城中路, 洋泾街道, 浦东新区, 上海市, 200010, China 中国,...  31.235646   \n",
       "2  2012  (Fairmont Makkah Clock Royal Tower, Bab Al Mal...  21.418184   \n",
       "3  2017  (5033, 益田路, 皇岗, 车公庙, 福田区, 广东省, 518048, China 中...  22.536724   \n",
       "4  2016  (롯데월드타워, 올림픽로, 송파구, 방이2동, 05551, 대한민국, (37.512...  37.512684   \n",
       "\n",
       "    Longitude  \n",
       "0   55.274221  \n",
       "1  121.501266  \n",
       "2   39.825565  \n",
       "3  114.050355  \n",
       "4  127.102629  "
      ]
     },
     "execution_count": 52,
     "metadata": {},
     "output_type": "execute_result"
    }
   ],
   "source": [
    "# Nominatim geocoder for OpenStreetMap data with RateLimiter\n",
    "geocoder = RateLimiter(Nominatim(user_agent='tutorial').geocode, min_delay_seconds=1)\n",
    "tallest_buildings['Location'] = tallest_buildings['Building'].apply(geocoder)\n",
    "\n",
    "# add latitude and longitude to dataframe\n",
    "tallest_buildings['Latitude'] = tallest_buildings['Location'].apply(lambda loc: loc.latitude if loc else None)\n",
    "tallest_buildings['Longitude'] = tallest_buildings['Location'].apply(lambda loc: loc.longitude if loc else None)\n",
    "\n",
    "tallest_buildings"
   ]
  },
  {
   "cell_type": "markdown",
   "metadata": {},
   "source": [
    "# ADDRESS FROM LATITUDE AND LONGITUDE"
   ]
  },
  {
   "cell_type": "code",
   "execution_count": 53,
   "metadata": {
    "scrolled": true
   },
   "outputs": [
    {
     "data": {
      "text/html": [
       "<div>\n",
       "<style scoped>\n",
       "    .dataframe tbody tr th:only-of-type {\n",
       "        vertical-align: middle;\n",
       "    }\n",
       "\n",
       "    .dataframe tbody tr th {\n",
       "        vertical-align: top;\n",
       "    }\n",
       "\n",
       "    .dataframe thead th {\n",
       "        text-align: right;\n",
       "    }\n",
       "</style>\n",
       "<table border=\"1\" class=\"dataframe\">\n",
       "  <thead>\n",
       "    <tr style=\"text-align: right;\">\n",
       "      <th></th>\n",
       "      <th>iata</th>\n",
       "      <th>name</th>\n",
       "      <th>city</th>\n",
       "      <th>state</th>\n",
       "      <th>country</th>\n",
       "      <th>latitude</th>\n",
       "      <th>longitude</th>\n",
       "    </tr>\n",
       "  </thead>\n",
       "  <tbody>\n",
       "    <tr>\n",
       "      <th>0</th>\n",
       "      <td>00M</td>\n",
       "      <td>Thigpen</td>\n",
       "      <td>Bay Springs</td>\n",
       "      <td>MS</td>\n",
       "      <td>USA</td>\n",
       "      <td>31.953765</td>\n",
       "      <td>-89.234505</td>\n",
       "    </tr>\n",
       "    <tr>\n",
       "      <th>1</th>\n",
       "      <td>00R</td>\n",
       "      <td>Livingston Municipal</td>\n",
       "      <td>Livingston</td>\n",
       "      <td>TX</td>\n",
       "      <td>USA</td>\n",
       "      <td>30.685861</td>\n",
       "      <td>-95.017928</td>\n",
       "    </tr>\n",
       "    <tr>\n",
       "      <th>2</th>\n",
       "      <td>00V</td>\n",
       "      <td>Meadow Lake</td>\n",
       "      <td>Colorado Springs</td>\n",
       "      <td>CO</td>\n",
       "      <td>USA</td>\n",
       "      <td>38.945749</td>\n",
       "      <td>-104.569893</td>\n",
       "    </tr>\n",
       "    <tr>\n",
       "      <th>3</th>\n",
       "      <td>01G</td>\n",
       "      <td>Perry-Warsaw</td>\n",
       "      <td>Perry</td>\n",
       "      <td>NY</td>\n",
       "      <td>USA</td>\n",
       "      <td>42.741347</td>\n",
       "      <td>-78.052081</td>\n",
       "    </tr>\n",
       "    <tr>\n",
       "      <th>4</th>\n",
       "      <td>01J</td>\n",
       "      <td>Hilliard Airpark</td>\n",
       "      <td>Hilliard</td>\n",
       "      <td>FL</td>\n",
       "      <td>USA</td>\n",
       "      <td>30.688012</td>\n",
       "      <td>-81.905944</td>\n",
       "    </tr>\n",
       "  </tbody>\n",
       "</table>\n",
       "</div>"
      ],
      "text/plain": [
       "  iata                  name              city state country   latitude  \\\n",
       "0  00M               Thigpen       Bay Springs    MS     USA  31.953765   \n",
       "1  00R  Livingston Municipal        Livingston    TX     USA  30.685861   \n",
       "2  00V           Meadow Lake  Colorado Springs    CO     USA  38.945749   \n",
       "3  01G          Perry-Warsaw             Perry    NY     USA  42.741347   \n",
       "4  01J      Hilliard Airpark          Hilliard    FL     USA  30.688012   \n",
       "\n",
       "    longitude  \n",
       "0  -89.234505  \n",
       "1  -95.017928  \n",
       "2 -104.569893  \n",
       "3  -78.052081  \n",
       "4  -81.905944  "
      ]
     },
     "execution_count": 53,
     "metadata": {},
     "output_type": "execute_result"
    }
   ],
   "source": [
    "# address from latitude and longitude\n",
    "airports = vds.airports()\n",
    "airports.head()"
   ]
  },
  {
   "cell_type": "code",
   "execution_count": 54,
   "metadata": {},
   "outputs": [
    {
     "data": {
      "text/plain": [
       "Location(Thigpen Field, Airport Road, Bay Springs, Jasper County, Mississippi, 39422, United States of America, (31.953765, -89.2345048, 0.0))"
      ]
     },
     "execution_count": 54,
     "metadata": {},
     "output_type": "execute_result"
    }
   ],
   "source": [
    "# Nominatim geocoder for OpenStreetMap data\n",
    "# reverse returns an address by location point (latitude, longitude)\n",
    "airport = Nominatim(user_agent='tutorial').reverse((airports.latitude[0], airports.longitude[0]))\n",
    "airport"
   ]
  },
  {
   "cell_type": "markdown",
   "metadata": {},
   "source": [
    "### FULL ADDRESS"
   ]
  },
  {
   "cell_type": "code",
   "execution_count": 55,
   "metadata": {},
   "outputs": [
    {
     "data": {
      "text/plain": [
       "'Thigpen Field, Airport Road, Bay Springs, Jasper County, Mississippi, 39422, United States of America'"
      ]
     },
     "execution_count": 55,
     "metadata": {},
     "output_type": "execute_result"
    }
   ],
   "source": [
    "airport.address"
   ]
  },
  {
   "cell_type": "markdown",
   "metadata": {},
   "source": [
    "### ALL GEOLOCATION DATA"
   ]
  },
  {
   "cell_type": "code",
   "execution_count": 56,
   "metadata": {},
   "outputs": [
    {
     "data": {
      "text/plain": [
       "{'place_id': 3317657,\n",
       " 'licence': 'Data © OpenStreetMap contributors, ODbL 1.0. https://osm.org/copyright',\n",
       " 'osm_type': 'node',\n",
       " 'osm_id': 368386020,\n",
       " 'lat': '31.953765',\n",
       " 'lon': '-89.2345048',\n",
       " 'display_name': 'Thigpen Field, Airport Road, Bay Springs, Jasper County, Mississippi, 39422, United States of America',\n",
       " 'address': {'aeroway': 'Thigpen Field',\n",
       "  'road': 'Airport Road',\n",
       "  'village': 'Bay Springs',\n",
       "  'county': 'Jasper County',\n",
       "  'state': 'Mississippi',\n",
       "  'postcode': '39422',\n",
       "  'country': 'United States of America',\n",
       "  'country_code': 'us'},\n",
       " 'boundingbox': ['31.938765', '31.968765', '-89.2495048', '-89.2195048']}"
      ]
     },
     "execution_count": 56,
     "metadata": {},
     "output_type": "execute_result"
    }
   ],
   "source": [
    "airport.raw"
   ]
  },
  {
   "cell_type": "markdown",
   "metadata": {},
   "source": [
    "# EXAMPLE WITH BING USING API KEY\n",
    "\n",
    "### LATITUDE AND LONGITUDE\n",
    "\n",
    "Most API keys require registration with the service/site. Some are free and some are paid services. See documentation for services/sites and visit each site for details."
   ]
  },
  {
   "cell_type": "code",
   "execution_count": 57,
   "metadata": {},
   "outputs": [
    {
     "name": "stdout",
     "output_type": "stream",
     "text": [
      "32.735234 -117.149126\n"
     ]
    }
   ],
   "source": [
    "import PYTHON_API_KEYS\n",
    "\n",
    "# API key\n",
    "# *** use your API key here ***\n",
    "# put in your Bing API key as string\n",
    "bing = PYTHON_API_KEYS.API_KEYS.BING_MAPS\n",
    "\n",
    "# geocoder using the Bing maps locations API\n",
    "sd_zoo = geopy.geocoders.Bing(api_key=bing).geocode('2920 Zoo Dr, San Diego, CA 92101')\n",
    "print(sd_zoo.latitude, sd_zoo.longitude)"
   ]
  },
  {
   "cell_type": "markdown",
   "metadata": {},
   "source": [
    "# CALCULATING DISTANCE"
   ]
  },
  {
   "cell_type": "markdown",
   "metadata": {},
   "source": [
    "### BASIC EXAMPLE"
   ]
  },
  {
   "cell_type": "code",
   "execution_count": 2,
   "metadata": {},
   "outputs": [
    {
     "data": {
      "text/plain": [
       "352.98342452610046"
      ]
     },
     "execution_count": 2,
     "metadata": {},
     "output_type": "execute_result"
    }
   ],
   "source": [
    "# put in start latitude, longitude and end latitude, longitude\n",
    "# geopy.distance.distance currently uses geodesic (source: documentation)\n",
    "distance.distance((31.953765, -89.234505), (30.685861, -95.017928)).miles"
   ]
  },
  {
   "cell_type": "code",
   "execution_count": 4,
   "metadata": {},
   "outputs": [
    {
     "data": {
      "text/plain": [
       "352.98342452610046"
      ]
     },
     "execution_count": 4,
     "metadata": {},
     "output_type": "execute_result"
    }
   ],
   "source": [
    "distance.geodesic((31.953765, -89.234505), (30.685861, -95.017928)).miles"
   ]
  },
  {
   "cell_type": "code",
   "execution_count": 5,
   "metadata": {},
   "outputs": [
    {
     "data": {
      "text/plain": [
       "352.37625288490705"
      ]
     },
     "execution_count": 5,
     "metadata": {},
     "output_type": "execute_result"
    }
   ],
   "source": [
    "distance.great_circle((31.953765, -89.234505), (30.685861, -95.017928)).miles"
   ]
  },
  {
   "cell_type": "markdown",
   "metadata": {},
   "source": [
    "### EXAMPLE WITH MAP\n",
    "### see ipywidgets and ipyleaflet tutorials for more examples"
   ]
  },
  {
   "cell_type": "code",
   "execution_count": 59,
   "metadata": {},
   "outputs": [
    {
     "data": {
      "application/vnd.jupyter.widget-view+json": {
       "model_id": "eccb4c5ac3c7441693784b7d60e03bd2",
       "version_major": 2,
       "version_minor": 0
      },
      "text/plain": [
       "interactive(children=(Dropdown(description='start:', options=('Thigpen', 'Livingston Municipal', 'Meadow Lake'…"
      ]
     },
     "metadata": {},
     "output_type": "display_data"
    }
   ],
   "source": [
    "# widgets\n",
    "start_dropdown = ipywidgets.Dropdown(options=list(airports.name),\n",
    "                                     value=list(airports.name)[0],\n",
    "                                     description='start:',\n",
    "                                     disabled=False)\n",
    "\n",
    "end_dropdown = ipywidgets.Dropdown(options=list(airports.name),\n",
    "                                   value=list(airports.name)[1],\n",
    "                                   description='end:',\n",
    "                                   disabled=False)\n",
    "\n",
    "# function\n",
    "# calculate distance from a to b\n",
    "# display map with ant path from a to b\n",
    "def get_coordinates(a, b):\n",
    "    start_lat = airports[airports.name == a].latitude.values[0]\n",
    "    start_long = airports[airports.name == a].longitude.values[0]\n",
    "    end_lat = airports[airports.name == b].latitude.values[0]\n",
    "    end_long = airports[airports.name == b].longitude.values[0]\n",
    "    start, end = (start_lat, start_long), (end_lat, end_long)\n",
    "    \n",
    "    m = Map(center=(38, -98), zoom=4, scroll_wheel_zoom=True)\n",
    "    ant_path = AntPath(locations=[start, end])\n",
    "    m.add_layer(ant_path)\n",
    "    measure = MeasureControl(position='topleft', active_color='red', primary_length_unit='miles')\n",
    "    m.add_control(measure)\n",
    "    display(m)\n",
    "    \n",
    "    return distance.distance(start, end).miles\n",
    "\n",
    "# interaction between function and widget\n",
    "ipywidgets.interact(get_coordinates, a=start_dropdown, b=end_dropdown);"
   ]
  }
 ],
 "metadata": {
  "kernelspec": {
   "display_name": "Python 3",
   "language": "python",
   "name": "python3"
  },
  "language_info": {
   "codemirror_mode": {
    "name": "ipython",
    "version": 3
   },
   "file_extension": ".py",
   "mimetype": "text/x-python",
   "name": "python",
   "nbconvert_exporter": "python",
   "pygments_lexer": "ipython3",
   "version": "3.7.6"
  },
  "varInspector": {
   "cols": {
    "lenName": 16,
    "lenType": 16,
    "lenVar": 40
   },
   "kernels_config": {
    "python": {
     "delete_cmd_postfix": "",
     "delete_cmd_prefix": "del ",
     "library": "var_list.py",
     "varRefreshCmd": "print(var_dic_list())"
    },
    "r": {
     "delete_cmd_postfix": ") ",
     "delete_cmd_prefix": "rm(",
     "library": "var_list.r",
     "varRefreshCmd": "cat(var_dic_list()) "
    }
   },
   "types_to_exclude": [
    "module",
    "function",
    "builtin_function_or_method",
    "instance",
    "_Feature"
   ],
   "window_display": false
  }
 },
 "nbformat": 4,
 "nbformat_minor": 4
}
